{
 "cells": [
  {
   "cell_type": "code",
   "execution_count": 2,
   "metadata": {},
   "outputs": [],
   "source": [
    "import pandas as pd\n",
    "import requests\n",
    "from bs4 import BeautifulSoup\n",
    "from threading import Thread\n",
    "from timed_count import timed_count\n",
    "\n",
    "from pprint import pprint\n",
    "\n",
    "import datetime as dt\n",
    "from tzlocal import get_localzone\n",
    "\n",
    "import random\n",
    "import time\n",
    "import os"
   ]
  },
  {
   "cell_type": "code",
   "execution_count": 7,
   "metadata": {},
   "outputs": [],
   "source": [
    "target = 'StackOverflow'"
   ]
  },
  {
   "cell_type": "code",
   "execution_count": 5,
   "metadata": {},
   "outputs": [],
   "source": [
    "def scrap(data):\n",
    "    allData = []\n",
    "    start = dt.datetime.now(tz=get_localzone())\n",
    "    fmt = \"%m/%d/%y - %T %p\"\n",
    "    # Print starting output for app\n",
    "    print('---'*20)\n",
    "    print('---'*20)\n",
    "    print(f'***** {target} started at {start.strftime(fmt)}')\n",
    "    print()\n",
    "    # looping data to scrap more details\n",
    "    for item in data:\n",
    "        # define target scrap based on question id\n",
    "        url = 'https://stackoverflow.com/questions/' + str(item['question_id'])\n",
    "        # make request to api\n",
    "        req = requests.get(url)\n",
    "        # parsing request with Beautifulsoup html parser\n",
    "        soup = BeautifulSoup(req.text, 'html.parser')\n",
    "        # defining variables\n",
    "        question_id = str(item['question_id'])\n",
    "        title = soup.find('a', {'class': 'question-hyperlink'}).text.strip() # type: ignore\n",
    "        content = soup.find('div', {'class': 'js-post-body'}).text.strip()  # type: ignore\n",
    "        post_tag = str(item['tags'])[1:-1]\n",
    "        user_id = str(item['owner']['user_id'])\n",
    "        question_stamp = soup.time.attrs # type: ignore\n",
    "        # appending item to array\n",
    "        allData.append({'question_id': question_id,'title': title, 'content': content, 'post_tag': post_tag, 'user_id': user_id, 'question_stamp': question_stamp['datetime']})\n",
    "        \n",
    "    # transform array to Pandas DataFrame\n",
    "    check_out = pd.DataFrame(allData)\n",
    "    # output path for storing data\n",
    "    output_path = 'Var/StackOverFlow/' + target + '.csv'\n",
    "    # storing data into csv format\n",
    "    check_out.to_csv(output_path, mode='a', header=not os.path.exists(output_path))\n",
    "    allData.clear()\n",
    "    end = dt.datetime.now(tz=get_localzone())\n",
    "    print(f\"\"\"\n",
    "        Successfully inserted 20 {target} Questions into collection\n",
    "        at {end.strftime(fmt)}.\\n\n",
    "        \"\"\")\n",
    "    print(f'Time elapsed for {target}: {end-start}')\n",
    "    print('---'*20)\n",
    "    print('---'*20)\n",
    "    print('\\n')\n",
    "    # Wait 1 to 5 seconds to start scraping next app\n",
    "    # time.sleep(180)\n",
    "        # with pd.ExcelWriter('Var/StackOverFlow/StackOverFlow.xlsx',\n",
    "        #                     mode=\"a\",\n",
    "        #                     engine=\"openpyxl\",\n",
    "        #                     if_sheet_exists=\"overlay\"\n",
    "        #                     ) as writer:\n",
    "        # check_out.to_excel(writer, sheet_name=\"datasheet\", index=False)"
   ]
  },
  {
   "cell_type": "code",
   "execution_count": null,
   "metadata": {},
   "outputs": [],
   "source": [
    "for count in timed_count(180):\n",
    "    api = requests.get(\n",
    "        'https://api.stackexchange.com/2.3/search/advanced?pagesize=20&order=desc&sort=activity&site=stackoverflow').json()\n",
    "    data = api['items']\n",
    "    scrap(data)\n"
   ]
  },
  {
   "cell_type": "code",
   "execution_count": null,
   "metadata": {},
   "outputs": [],
   "source": [
    "# thread = Thread(target=scrap)\n",
    "# thread.start()"
   ]
  }
 ],
 "metadata": {
  "kernelspec": {
   "display_name": "Python 3",
   "language": "python",
   "name": "python3"
  },
  "language_info": {
   "codemirror_mode": {
    "name": "ipython",
    "version": 3
   },
   "file_extension": ".py",
   "mimetype": "text/x-python",
   "name": "python",
   "nbconvert_exporter": "python",
   "pygments_lexer": "ipython3",
   "version": "3.11.0"
  },
  "orig_nbformat": 4,
  "vscode": {
   "interpreter": {
    "hash": "2d681002bfa98c22e3a55bd09cef3381f6316e5c0f3421472a2863e693739461"
   }
  }
 },
 "nbformat": 4,
 "nbformat_minor": 2
}
